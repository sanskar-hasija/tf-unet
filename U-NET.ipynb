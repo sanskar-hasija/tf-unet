{
 "cells": [
  {
   "cell_type": "markdown",
   "id": "c723d7e1",
   "metadata": {},
   "source": [
    "# Model Details\n",
    "\n",
    "<img src=\"images/unet.png\" style=\"width:700px;height:400;\">\n",
    "<caption><center>  </u></b>: U-Net Architecture<br> </center></caption>\n",
    "**Contracting path** (Encoder containing downsampling steps):\n",
    "\n",
    "Images are first fed through several convolutional layers which reduce height and width, while growing the number of channels.\n",
    "\n",
    "The contracting path follows a regular CNN architecture, with convolutional layers, their activations, and pooling layers to downsample the image and extract its features. In detail, it consists of the repeated application of two 3 x 3 unpadded convolutions, each followed by a rectified linear unit (ReLU) and a 2 x 2 max pooling operation with stride 2 for downsampling. At each downsampling step, the number of feature channels is doubled.\n",
    "\n",
    "**Crop function**: This step crops the image from the contracting path and concatenates it to the current image on the expanding path to create a skip connection. \n",
    "\n",
    "**Expanding path** (Decoder containing upsampling steps):\n",
    "\n",
    "The expanding path performs the opposite operation of the contracting path, growing the image back to its original size, while shrinking the channels gradually.\n",
    "\n",
    "In detail, each step in the expanding path upsamples the feature map, followed by a 2 x 2 convolution (the transposed convolution). This transposed convolution halves the number of feature channels, while growing the height and width of the image.\n",
    "\n",
    "Next is a concatenation with the correspondingly cropped feature map from the contracting path, and two 3 x 3 convolutions, each followed by a ReLU. You need to perform cropping to handle the loss of border pixels in every convolution.\n",
    "\n",
    "**Final Feature Mapping Block**: In the final layer, a 1x1 convolution is used to map each 64-component feature vector to the desired number of classes. The channel dimensions from the previous layer correspond to the number of filters used, so when you use 1x1 convolutions, you can transform that dimension by choosing an appropriate number of 1x1 filters. When this idea is applied to the last layer, you can reduce the channel dimensions to have one layer per class. \n",
    "\n",
    "The U-Net network has 23 convolutional layers in total. "
   ]
  },
  {
   "cell_type": "markdown",
   "id": "f91e9873",
   "metadata": {},
   "source": [
    "## IMPORTS"
   ]
  },
  {
   "cell_type": "code",
   "execution_count": 1,
   "id": "572f2774",
   "metadata": {},
   "outputs": [],
   "source": [
    "import tensorflow as tf \n",
    "from tensorflow.keras.layers import Input\n",
    "from tensorflow.keras.layers import Conv2D\n",
    "from tensorflow.keras.layers import MaxPooling2D\n",
    "from tensorflow.keras.layers import Dropout \n",
    "from tensorflow.keras.layers import Conv2DTranspose\n",
    "from tensorflow.keras.layers import concatenate"
   ]
  },
  {
   "cell_type": "markdown",
   "id": "c033f1bc",
   "metadata": {},
   "source": [
    "<a name='3-2'></a>\n",
    "###  Encoder (Downsampling Block) \n",
    "\n",
    "<img src=\"images/encoder.png\" style=\"width:500px;height:500;\">\n",
    "<caption><center></u></b>: The U-Net Encoder up close <br> </center></caption>\n",
    "The encoder is a stack of various conv_blocks:\n",
    "\n",
    "Each `conv_block()` is composed of 2 **Conv2D** layers  with ReLU activations. We will apply **Dropout**, and **MaxPooling2D** to some conv_blocks, as you will verify in the following sections, specifically to the last two blocks of the downsampling. \n",
    "\n",
    "The function will  return two tensors: \n",
    "- `next_layer`: That will go into the next block. \n",
    "- `skip_connection`: That will go into the corresponding decoding block.\n",
    "\n",
    
   ]
  },
  {
   "cell_type": "code",
   "execution_count": 2,
   "id": "260188b3",
   "metadata": {},
   "outputs": [],
   "source": [
    "def conv_block(inputs , n_filters, dropout_prob=0 , max_pooling = True):\n",
    "    \"\"\"\n",
    "    Convolutional downsampling block\n",
    "    \n",
    "    Arguments:\n",
    "        inputs -- Input tensor\n",
    "        n_filters -- Number of filters for the convolutional layers\n",
    "        dropout_prob -- Dropout probability\n",
    "        max_pooling -- Use MaxPooling2D to reduce the spatial dimensions of the output volume\n",
    "    Returns: \n",
    "        next_layer, skip_connection --  Next layer and skip connection outputs\n",
    "    \"\"\"\n",
    "    conv1 = Conv2D(filters = n_filters , \n",
    "                  kernel_size = 3,\n",
    "                  activation=\"relu\",\n",
    "                  padding=\"same\",\n",
    "                  kernel_initializer=\"he_normal\")(inputs)\n",
    "    conv2 = Conv2D(filters = n_filters , \n",
    "                  kernel_size = 3,\n",
    "                  activation=\"relu\",\n",
    "                  padding=\"same\",\n",
    "                  kernel_initializer=\"he_normal\")(conv1)\n",
    "    if dropout_prob > 0:\n",
    "        conv = Dropout(dropout_prob)(conv2)\n",
    "        \n",
    "    if max_pooling:\n",
    "        next_layer = MaxPooling2D(pool_size = (2,2))(conv2)\n",
    "    else :\n",
    "        next_layer = conv2\n",
    "        \n",
    "    skip_connection = conv2\n",
    "    return next_layer , skip_connection"
   ]
  },
  {
   "cell_type": "markdown",
   "id": "b7b4d95e",
   "metadata": {},
   "source": [
    "###  Decoder (Upsampling Block)\n",
    "\n",
    "The decoder, or upsampling block, upsamples the features back to the original image size. At each upsampling level, you'll take the output of the corresponding encoder block and concatenate it before feeding to the next decoder block.\n",
    "\n",
    "<img src=\"images/decoder.png\" style=\"width:500px;height:500;\">\n",
    "There are two new components in the decoder: `up` and `merge`. These are the transpose convolution and the skip connections. In addition, there are two more convolutional layers set to the same parameters as in the encoder. "
   ]
  },
  {
   "cell_type": "code",
   "execution_count": 3,
   "id": "e46bee9e",
   "metadata": {},
   "outputs": [],
   "source": [
    "def upsampling_block(expansive_input , contractive_input , n_filters):\n",
    "    \"\"\"\n",
    "    Convolutional upsampling block\n",
    "    \n",
    "    Arguments:\n",
    "        expansive_input -- Input tensor from previous layer\n",
    "        contractive_input -- Input tensor from previous skip layer\n",
    "        n_filters -- Number of filters for the convolutional layers\n",
    "    Returns: \n",
    "        conv -- Tensor output\n",
    "    \"\"\"\n",
    "    up  = Conv2DTranspose(filters = n_filters ,\n",
    "                         kernel_size =  3 ,\n",
    "                         strides=2,\n",
    "                         padding=\"same\")(expansive_input)\n",
    "    merge = concatenate([up, contractive_input], axis=3)\n",
    "    conv1 = Conv2D(filters = n_filters,\n",
    "                 kernel_size = 3,\n",
    "                 activation=\"relu\",\n",
    "                 padding='same',\n",
    "                 kernel_initializer=\"he_normal\")(merge)\n",
    "    conv = Conv2D(filters = n_filters,\n",
    "                 kernel_size = 3,\n",
    "                 activation= \"relu\",\n",
    "                 padding=\"same\",\n",
    "                 kernel_initializer=\"he_normal\")(conv1)\n",
    "    return conv"
   ]
  },
  {
   "cell_type": "markdown",
   "id": "434418c5",
   "metadata": {},
   "source": [
    "### Building the model"
   ]
  },
  {
   "cell_type": "code",
   "execution_count": 4,
   "id": "ee89340e",
   "metadata": {},
   "outputs": [],
   "source": [
    "def unet_model(input_size, n_classes, n_filters=32):\n",
    "    \"\"\"\n",
    "    Unet model\n",
    "    \n",
    "    Arguments:\n",
    "        input_size -- Input shape \n",
    "        n_filters -- Number of filters for the convolutional layers\n",
    "        n_classes -- Number of output classes\n",
    "    Returns: \n",
    "        model -- tf.keras.Model\n",
    "    \"\"\"\n",
    "    inputs = Input(input_size)\n",
    "    cblock1 = conv_block(inputs,n_filters)\n",
    "    cblock2 = conv_block(cblock1[0], 2*n_filters)\n",
    "    cblock3 = conv_block(cblock2[0], 4*n_filters)\n",
    "    cblock4 = conv_block(cblock3[0], 8*n_filters, dropout_prob=0.3)\n",
    "    cblock5 = conv_block(cblock4[0], 16*n_filters, dropout_prob=0.3, max_pooling=False) \n",
    "    ublock6 = upsampling_block(cblock5[0], cblock4[1],  n_filters * 8)\n",
    "    ublock7 = upsampling_block(ublock6, cblock3[1], n_filters * 4)\n",
    "    ublock8 = upsampling_block(ublock7, cblock2[1], n_filters * 2)\n",
    "    ublock9 = upsampling_block(ublock8, cblock1[1],  n_filters )\n",
    "    \n",
    "    conv9 = Conv2D(filters = n_filters,\n",
    "                 kernel_size = 3,\n",
    "                 activation='relu',\n",
    "                 padding='same',\n",
    "                 kernel_initializer='he_normal')(ublock9)\n",
    "    conv10 = Conv2D(n_classes, 1, padding=\"same\")(conv9)\n",
    "    model = tf.keras.Model(inputs=inputs, outputs=conv10)\n",
    "    \n",
    "    return model"
   ]
  }
 ],
 "metadata": {
  "kernelspec": {
   "display_name": "Python 3",
   "language": "python",
   "name": "python3"
  },
  "language_info": {
   "codemirror_mode": {
    "name": "ipython",
    "version": 3
   },
   "file_extension": ".py",
   "mimetype": "text/x-python",
   "name": "python",
   "nbconvert_exporter": "python",
   "pygments_lexer": "ipython3",
   "version": "3.6.13"
  }
 },
 "nbformat": 4,
 "nbformat_minor": 5
}
